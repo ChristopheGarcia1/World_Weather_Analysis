{
 "cells": [
  {
   "cell_type": "markdown",
   "source": [
    "## Deliverable 3. Create a Travel Itinerary Map."
   ],
   "metadata": {}
  },
  {
   "cell_type": "code",
   "execution_count": 53,
   "source": [
    "# Dependencies and Setup\r\n",
    "import pandas as pd\r\n",
    "import requests\r\n",
    "import gmaps\r\n",
    "\r\n",
    "# Import API key\r\n",
    "from config import g_key\r\n",
    "\r\n",
    "# Configure gmaps\r\n",
    "gmaps.configure(api_key=g_key)"
   ],
   "outputs": [],
   "metadata": {}
  },
  {
   "cell_type": "code",
   "execution_count": 54,
   "source": [
    "# 1. Read the WeatherPy_vacation.csv into a DataFrame.\r\n",
    "vacation_df = pd.read_csv(\"../Vacation_Search/WeatherPy_vacations.csv\")\r\n",
    "vacation_df.head()"
   ],
   "outputs": [
    {
     "output_type": "execute_result",
     "data": {
      "text/html": [
       "<div>\n",
       "<style scoped>\n",
       "    .dataframe tbody tr th:only-of-type {\n",
       "        vertical-align: middle;\n",
       "    }\n",
       "\n",
       "    .dataframe tbody tr th {\n",
       "        vertical-align: top;\n",
       "    }\n",
       "\n",
       "    .dataframe thead th {\n",
       "        text-align: right;\n",
       "    }\n",
       "</style>\n",
       "<table border=\"1\" class=\"dataframe\">\n",
       "  <thead>\n",
       "    <tr style=\"text-align: right;\">\n",
       "      <th></th>\n",
       "      <th>City_ID</th>\n",
       "      <th>City</th>\n",
       "      <th>Country</th>\n",
       "      <th>Max Temp</th>\n",
       "      <th>Description</th>\n",
       "      <th>Lat</th>\n",
       "      <th>Lng</th>\n",
       "      <th>Hotel Name</th>\n",
       "    </tr>\n",
       "  </thead>\n",
       "  <tbody>\n",
       "    <tr>\n",
       "      <th>0</th>\n",
       "      <td>7</td>\n",
       "      <td>Alyangula</td>\n",
       "      <td>AU</td>\n",
       "      <td>87.67</td>\n",
       "      <td>scattered clouds</td>\n",
       "      <td>-13.8483</td>\n",
       "      <td>136.4192</td>\n",
       "      <td>Groote Eylandt Lodge</td>\n",
       "    </tr>\n",
       "    <tr>\n",
       "      <th>1</th>\n",
       "      <td>19</td>\n",
       "      <td>Cabo San Lucas</td>\n",
       "      <td>MX</td>\n",
       "      <td>87.51</td>\n",
       "      <td>clear sky</td>\n",
       "      <td>22.8909</td>\n",
       "      <td>-109.9124</td>\n",
       "      <td>Hotel Tesoro Los Cabos</td>\n",
       "    </tr>\n",
       "    <tr>\n",
       "      <th>2</th>\n",
       "      <td>22</td>\n",
       "      <td>Airai</td>\n",
       "      <td>TL</td>\n",
       "      <td>79.41</td>\n",
       "      <td>scattered clouds</td>\n",
       "      <td>-8.9266</td>\n",
       "      <td>125.4092</td>\n",
       "      <td>Juvinal Martin</td>\n",
       "    </tr>\n",
       "    <tr>\n",
       "      <th>3</th>\n",
       "      <td>26</td>\n",
       "      <td>Victoria</td>\n",
       "      <td>HK</td>\n",
       "      <td>89.65</td>\n",
       "      <td>clear sky</td>\n",
       "      <td>22.2855</td>\n",
       "      <td>114.1577</td>\n",
       "      <td>Mini Hotel Central</td>\n",
       "    </tr>\n",
       "    <tr>\n",
       "      <th>4</th>\n",
       "      <td>27</td>\n",
       "      <td>Ojinaga</td>\n",
       "      <td>MX</td>\n",
       "      <td>82.42</td>\n",
       "      <td>broken clouds</td>\n",
       "      <td>29.5667</td>\n",
       "      <td>-104.4167</td>\n",
       "      <td>Suites Las Palmas</td>\n",
       "    </tr>\n",
       "  </tbody>\n",
       "</table>\n",
       "</div>"
      ],
      "text/plain": [
       "   City_ID            City Country  Max Temp       Description      Lat  \\\n",
       "0        7       Alyangula      AU     87.67  scattered clouds -13.8483   \n",
       "1       19  Cabo San Lucas      MX     87.51         clear sky  22.8909   \n",
       "2       22           Airai      TL     79.41  scattered clouds  -8.9266   \n",
       "3       26        Victoria      HK     89.65         clear sky  22.2855   \n",
       "4       27         Ojinaga      MX     82.42     broken clouds  29.5667   \n",
       "\n",
       "        Lng              Hotel Name  \n",
       "0  136.4192    Groote Eylandt Lodge  \n",
       "1 -109.9124  Hotel Tesoro Los Cabos  \n",
       "2  125.4092          Juvinal Martin  \n",
       "3  114.1577      Mini Hotel Central  \n",
       "4 -104.4167       Suites Las Palmas  "
      ]
     },
     "metadata": {},
     "execution_count": 54
    }
   ],
   "metadata": {}
  },
  {
   "cell_type": "code",
   "execution_count": 55,
   "source": [
    "# 2. Using the template add the city name, the country code, the weather description and maximum temperature for the city.\r\n",
    "info_box_template = \"\"\"\r\n",
    "<d1>\r\n",
    "<dt>Hotel Name</dt><dd>{Hotel Name}</dd>\r\n",
    "<dt>City</dt><dd>{City}</dd>\r\n",
    "<dt>Country</dt><dd>{Country}</dd>\r\n",
    "<dt>Max Temp</dt><dd>{Max Temp} °F</dd>\r\n",
    "</dl>\r\n",
    "\"\"\"\r\n",
    "\r\n",
    "# 3a. Get the data from each row and add it to the formatting template and store the data in a list.\r\n",
    "hotel_info = [info_box_template.format(**row) for index, row in vacation_df.iterrows()]\r\n",
    "\r\n",
    "# 3b. Get the latitude and longitude from each row and store in a new DataFrame.\r\n",
    "locations = vacation_df[[\"Lat\", \"Lng\"]]"
   ],
   "outputs": [],
   "metadata": {}
  },
  {
   "cell_type": "code",
   "execution_count": 56,
   "source": [
    "# 4a. Add a marker layer for each city to the map.\r\n",
    "max_temp = vacation_df[\"Max Temp\"]\r\n",
    "fig = gmaps.figure(center=(30.0, 31.0), zoom_level=1.5)\r\n",
    "marker_layer = gmaps.marker_layer(locations, info_box_content=hotel_info,)\r\n",
    "fig.add_layer(marker_layer)\r\n",
    "# 4b. Display the figure\r\n",
    "fig\r\n"
   ],
   "outputs": [
    {
     "output_type": "display_data",
     "data": {
      "application/vnd.jupyter.widget-view+json": {
       "version_major": 2,
       "version_minor": 0,
       "model_id": "9afac7d79770416c8642605ab800d8bd"
      },
      "text/plain": [
       "Figure(layout=FigureLayout(height='420px'))"
      ]
     },
     "metadata": {}
    }
   ],
   "metadata": {}
  },
  {
   "cell_type": "code",
   "execution_count": 57,
   "source": [
    "# From the map above pick 4 cities and create a vacation itinerary route to travel between the four cities. \r\n",
    "# 5. Create DataFrames for each city by filtering the 'vacation_df' using the loc method. \r\n",
    "# Hint: The starting and ending city should be the same city.\r\n",
    "\r\n",
    "vacation_start = vacation_df.loc[vacation_df[\"City\"]== \"Blora\"]\r\n",
    "vacation_end = vacation_df.loc[vacation_df[\"City\"]== \"Blora\"]\r\n",
    "vacation_stop1 = vacation_df.loc[vacation_df[\"City\"]== \"Labuhan\"]\r\n",
    "vacation_stop2 = vacation_df.loc[vacation_df[\"City\"]== \"Boyolangu\"] \r\n",
    "vacation_stop3 = vacation_df.loc[vacation_df[\"City\"]== \"Bambanglipuro\"] "
   ],
   "outputs": [],
   "metadata": {}
  },
  {
   "cell_type": "code",
   "execution_count": 66,
   "source": [
    "# 6. Get the latitude-longitude pairs as tuples from each city DataFrame using the to_numpy function and list indexing.\r\n",
    "start = vacation_start[[\"Lat\",\"Lng\"]].to_numpy()[0]\r\n",
    "end = vacation_end[[\"Lat\",\"Lng\"]].to_numpy()[0]\r\n",
    "stop1 = vacation_stop1[[\"Lat\",\"Lng\"]].to_numpy()[0]\r\n",
    "stop2 = vacation_stop2[[\"Lat\",\"Lng\"]].to_numpy()[0]\r\n",
    "stop3 = vacation_stop3[[\"Lat\",\"Lng\"]].to_numpy()[0]\r\n",
    "start"
   ],
   "outputs": [
    {
     "output_type": "execute_result",
     "data": {
      "text/plain": [
       "array([ -6.9698, 111.4186])"
      ]
     },
     "metadata": {},
     "execution_count": 66
    }
   ],
   "metadata": {}
  },
  {
   "cell_type": "code",
   "execution_count": 67,
   "source": [
    "# 7. Create a direction layer map using the start and end latitude-longitude pairs,\r\n",
    "# and stop1, stop2, and stop3 as the waypoints. The travel_mode should be \"DRIVING\", \"BICYCLING\", or \"WALKING\".\r\n",
    "fig = gmaps.figure(center=(30.0, 31.0), zoom_level=1.5)\r\n",
    "vacation_trail = gmaps.directions_layer(start, end, waypoints=[stop1, stop2, stop3], travel_mode= \"DRIVING\")\r\n",
    "fig.add_layer(vacation_trail)\r\n",
    "fig\r\n"
   ],
   "outputs": [
    {
     "output_type": "display_data",
     "data": {
      "application/vnd.jupyter.widget-view+json": {
       "version_major": 2,
       "version_minor": 0,
       "model_id": "abb60984f44b473cb90c56b5476420a9"
      },
      "text/plain": [
       "Figure(layout=FigureLayout(height='420px'))"
      ]
     },
     "metadata": {}
    }
   ],
   "metadata": {
    "scrolled": true
   }
  },
  {
   "cell_type": "code",
   "execution_count": 68,
   "source": [
    "# 8. To create a marker layer map between the four cities.\r\n",
    "#  Combine the four city DataFrames into one DataFrame using the concat() function.\r\n",
    "itinerary_df = pd.concat([vacation_start,vacation_stop1,vacation_stop2,vacation_stop3],ignore_index=True)\r\n",
    "itinerary_df"
   ],
   "outputs": [
    {
     "output_type": "execute_result",
     "data": {
      "text/html": [
       "<div>\n",
       "<style scoped>\n",
       "    .dataframe tbody tr th:only-of-type {\n",
       "        vertical-align: middle;\n",
       "    }\n",
       "\n",
       "    .dataframe tbody tr th {\n",
       "        vertical-align: top;\n",
       "    }\n",
       "\n",
       "    .dataframe thead th {\n",
       "        text-align: right;\n",
       "    }\n",
       "</style>\n",
       "<table border=\"1\" class=\"dataframe\">\n",
       "  <thead>\n",
       "    <tr style=\"text-align: right;\">\n",
       "      <th></th>\n",
       "      <th>City_ID</th>\n",
       "      <th>City</th>\n",
       "      <th>Country</th>\n",
       "      <th>Max Temp</th>\n",
       "      <th>Description</th>\n",
       "      <th>Lat</th>\n",
       "      <th>Lng</th>\n",
       "      <th>Hotel Name</th>\n",
       "    </tr>\n",
       "  </thead>\n",
       "  <tbody>\n",
       "    <tr>\n",
       "      <th>0</th>\n",
       "      <td>559</td>\n",
       "      <td>Blora</td>\n",
       "      <td>ID</td>\n",
       "      <td>82.76</td>\n",
       "      <td>broken clouds</td>\n",
       "      <td>-6.9698</td>\n",
       "      <td>111.4186</td>\n",
       "      <td>Hotel Adhi Jaya</td>\n",
       "    </tr>\n",
       "    <tr>\n",
       "      <th>1</th>\n",
       "      <td>39</td>\n",
       "      <td>Labuhan</td>\n",
       "      <td>ID</td>\n",
       "      <td>84.70</td>\n",
       "      <td>overcast clouds</td>\n",
       "      <td>-6.8844</td>\n",
       "      <td>112.2051</td>\n",
       "      <td>PT PPI Lamongan Tambak C</td>\n",
       "    </tr>\n",
       "    <tr>\n",
       "      <th>2</th>\n",
       "      <td>328</td>\n",
       "      <td>Boyolangu</td>\n",
       "      <td>ID</td>\n",
       "      <td>78.12</td>\n",
       "      <td>overcast clouds</td>\n",
       "      <td>-8.1181</td>\n",
       "      <td>111.8935</td>\n",
       "      <td>Yos ega cv</td>\n",
       "    </tr>\n",
       "    <tr>\n",
       "      <th>3</th>\n",
       "      <td>119</td>\n",
       "      <td>Bambanglipuro</td>\n",
       "      <td>ID</td>\n",
       "      <td>78.94</td>\n",
       "      <td>overcast clouds</td>\n",
       "      <td>-7.9500</td>\n",
       "      <td>110.2833</td>\n",
       "      <td>Puri Brata</td>\n",
       "    </tr>\n",
       "  </tbody>\n",
       "</table>\n",
       "</div>"
      ],
      "text/plain": [
       "   City_ID           City Country  Max Temp      Description     Lat  \\\n",
       "0      559          Blora      ID     82.76    broken clouds -6.9698   \n",
       "1       39        Labuhan      ID     84.70  overcast clouds -6.8844   \n",
       "2      328      Boyolangu      ID     78.12  overcast clouds -8.1181   \n",
       "3      119  Bambanglipuro      ID     78.94  overcast clouds -7.9500   \n",
       "\n",
       "        Lng                Hotel Name  \n",
       "0  111.4186           Hotel Adhi Jaya  \n",
       "1  112.2051  PT PPI Lamongan Tambak C  \n",
       "2  111.8935                Yos ega cv  \n",
       "3  110.2833                Puri Brata  "
      ]
     },
     "metadata": {},
     "execution_count": 68
    }
   ],
   "metadata": {}
  },
  {
   "cell_type": "code",
   "execution_count": 69,
   "source": [
    "# 9 Using the template add city name, the country code, the weather description and maximum temperature for the city. \r\n",
    "info_box_template = \"\"\"\r\n",
    "<d1>\r\n",
    "<dt>Hotel Name </dt><dd>{Hotel Name}</dd>\r\n",
    "<dt>City</dt><dd>{City}</dd>\r\n",
    "<dt>Country</dt><dd>{Country}</dd>\r\n",
    "<dt>Description</dt><dd>{Description}</dd>\r\n",
    "<dt>Max Temp</dt><dd>{Max Temp} °F</dd>\r\n",
    "</dl>\r\n",
    "\"\"\"\r\n",
    "\r\n",
    "# 10a Get the data from each row and add it to the formatting template and store the data in a list.\r\n",
    "hotel_info = [info_box_template.format(**row) for index, row in itinerary_df.iterrows()]\r\n",
    "\r\n",
    "# 10b. Get the latitude and longitude from each row and store in a new DataFrame.\r\n",
    "locations = itinerary_df[[\"Lat\", \"Lng\"]]"
   ],
   "outputs": [],
   "metadata": {}
  },
  {
   "cell_type": "code",
   "execution_count": 70,
   "source": [
    "# 11a. Add a marker layer for each city to the map.\r\n",
    "fig = gmaps.figure(center=(30.0, 31.0), zoom_level=1.5)\r\n",
    "marker_layer = gmaps.marker_layer(locations, info_box_content=hotel_info,)\r\n",
    "fig.add_layer(marker_layer)\r\n",
    "# 11b. Display the figure\r\n",
    "fig"
   ],
   "outputs": [
    {
     "output_type": "display_data",
     "data": {
      "application/vnd.jupyter.widget-view+json": {
       "version_major": 2,
       "version_minor": 0,
       "model_id": "589fe30a3abb45689c27783f9bbc6450"
      },
      "text/plain": [
       "Figure(layout=FigureLayout(height='420px'))"
      ]
     },
     "metadata": {}
    }
   ],
   "metadata": {}
  },
  {
   "cell_type": "code",
   "execution_count": null,
   "source": [],
   "outputs": [],
   "metadata": {}
  }
 ],
 "metadata": {
  "kernelspec": {
   "name": "python3",
   "display_name": "Python 3.7.10 64-bit ('PythonData': conda)"
  },
  "language_info": {
   "codemirror_mode": {
    "name": "ipython",
    "version": 3
   },
   "file_extension": ".py",
   "mimetype": "text/x-python",
   "name": "python",
   "nbconvert_exporter": "python",
   "pygments_lexer": "ipython3",
   "version": "3.7.10"
  },
  "latex_envs": {
   "LaTeX_envs_menu_present": true,
   "autoclose": false,
   "autocomplete": true,
   "bibliofile": "biblio.bib",
   "cite_by": "apalike",
   "current_citInitial": 1,
   "eqLabelWithNumbers": true,
   "eqNumInitial": 1,
   "hotkeys": {
    "equation": "Ctrl-E",
    "itemize": "Ctrl-I"
   },
   "labels_anchors": false,
   "latex_user_defs": false,
   "report_style_numbering": false,
   "user_envs_cfg": false
  },
  "interpreter": {
   "hash": "e2c90f2b55697ebd10a1580373892a477e33f2643c7f0fec0ac59e3643c3e2f1"
  }
 },
 "nbformat": 4,
 "nbformat_minor": 2
}